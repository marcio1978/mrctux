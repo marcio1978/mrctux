{
  "nbformat": 4,
  "nbformat_minor": 0,
  "metadata": {
    "colab": {
      "provenance": [],
      "include_colab_link": true
    },
    "kernelspec": {
      "name": "python3",
      "display_name": "Python 3"
    },
    "language_info": {
      "name": "python"
    }
  },
  "cells": [
    {
      "cell_type": "markdown",
      "metadata": {
        "id": "view-in-github",
        "colab_type": "text"
      },
      "source": [
        "<a href=\"https://colab.research.google.com/github/marcio1978/mrctux/blob/slave/Scraping.ipynb\" target=\"_parent\"><img src=\"https://colab.research.google.com/assets/colab-badge.svg\" alt=\"Open In Colab\"/></a>"
      ]
    },
    {
      "cell_type": "markdown",
      "metadata": {
        "id": "wYcAzs093OE9"
      },
      "source": [
        "#Demonstração Scraping\n",
        "###Disciplina - Introdução a Ciência de Dados - Univesp\n",
        "###Videoaula 8\n",
        "###Prof. Dr. José Eduardo Santarem Segundo"
      ]
    },
    {
      "cell_type": "markdown",
      "metadata": {
        "id": "ELZTuC-l5FPW"
      },
      "source": [
        "#Importar as Bibliotecas"
      ]
    },
    {
      "cell_type": "code",
      "metadata": {
        "id": "JT4lG-bL3QN4"
      },
      "source": [
        "import requests\n",
        "from bs4 import BeautifulSoup\n",
        "import pandas as pd"
      ],
      "execution_count": null,
      "outputs": []
    },
    {
      "cell_type": "markdown",
      "metadata": {
        "id": "_gTPyL615CoT"
      },
      "source": [
        "# Vamos dar uma olhada na página que vamos fazer scraping.\n",
        "###Vamos inspecionar ela!\n",
        "\n",
        "### https://statisticstimes.com/tech/top-computer-languages.php\n",
        "\n",
        "# Depois vamos coletar a página"
      ]
    },
    {
      "cell_type": "code",
      "metadata": {
        "id": "0J92mlCC5KMD"
      },
      "source": [
        "html=requests.get(\"https://statisticstimes.com/tech/top-computer-languages.php\").content\n",
        "soup=BeautifulSoup(html,'html5lib')"
      ],
      "execution_count": null,
      "outputs": []
    },
    {
      "cell_type": "markdown",
      "metadata": {
        "id": "e8CoTJiD6RCl"
      },
      "source": [
        "#Com a biblioteca Beautifulsoup vamos encontrar o primeiro parágrafo, pegar a tag P"
      ]
    },
    {
      "cell_type": "code",
      "metadata": {
        "id": "Kc8Fb7G96RiG",
        "colab": {
          "base_uri": "https://localhost:8080/"
        },
        "outputId": "1586a2ef-190f-4fb8-d11c-b2cbd7bdf052"
      },
      "source": [
        "primeiro_paragrafo=soup.find('p')\n",
        "primeiro_paragrafo"
      ],
      "execution_count": null,
      "outputs": [
        {
          "output_type": "execute_result",
          "data": {
            "text/plain": [
              "<p>Python is the top programming language in TIOBE and PYPL Index. C closely follow Top-ranked Python in TIOBE. \n",
              "In PYPL, a gap is wider as top-ranked Python has taken a lead of close to 10% from 2nd ranked Java.</p>"
            ]
          },
          "metadata": {},
          "execution_count": 3
        }
      ]
    },
    {
      "cell_type": "code",
      "metadata": {
        "id": "PPjmpbS16VHx",
        "colab": {
          "base_uri": "https://localhost:8080/",
          "height": 53
        },
        "outputId": "977628b2-f3c4-4dbf-bda2-99fb02d80b42"
      },
      "source": [
        "primeiro_paragrafo.text"
      ],
      "execution_count": null,
      "outputs": [
        {
          "output_type": "execute_result",
          "data": {
            "text/plain": [
              "'Python is the top programming language in TIOBE and PYPL Index. C closely follow Top-ranked Python in TIOBE. \\nIn PYPL, a gap is wider as top-ranked Python has taken a lead of close to 10% from 2nd ranked Java.'"
            ],
            "application/vnd.google.colaboratory.intrinsic+json": {
              "type": "string"
            }
          },
          "metadata": {},
          "execution_count": 4
        }
      ]
    },
    {
      "cell_type": "markdown",
      "metadata": {
        "id": "eVz-dV-O6VTX"
      },
      "source": [
        "#Agora vamos pegar todos os parágrafos (veja a função find_all)"
      ]
    },
    {
      "cell_type": "code",
      "metadata": {
        "id": "I8VqSTQ_6b7w",
        "colab": {
          "base_uri": "https://localhost:8080/"
        },
        "outputId": "93dc21c8-ea4d-4193-9de7-3998c8aa4be8"
      },
      "source": [
        "todos_paragrafos=soup.find_all('p')\n",
        "todos_paragrafos"
      ],
      "execution_count": null,
      "outputs": [
        {
          "output_type": "execute_result",
          "data": {
            "text/plain": [
              "[<p>Python is the top programming language in TIOBE and PYPL Index. C closely follow Top-ranked Python in TIOBE. \n",
              " In PYPL, a gap is wider as top-ranked Python has taken a lead of close to 10% from 2nd ranked Java.</p>,\n",
              " <p><b>TIOBE:</b> Python, C, Java and C++ are way ahead of others in TIOBE Index. C++ is about to surpass Java.\n",
              " C# and Visual Basic are very close to each other at 5th and 6th number. These four have negative\n",
              " trends in the past five years: Java, C, C#, and PHP. PHP was at 3rd position in Mar 2010 is now at 13th. \n",
              " Positions of Java and C have not been much affected, but their ratings are constantly declining. The rating\n",
              " of Java has declined from 26.49% in June 2001 to 10.47% in Jun 2022.</p>,\n",
              " <p><b>PYPL:</b> Acc to PYPL, which publishes separate ranking for five countries, Python is the top language in all five countries\n",
              " (US, India, Germany, United Kingdom, France). Python has taken a huge lead in these five countries over the 2nd number\n",
              " of Java, and its shares are even almost double of Java in fourFrance, United Kingdom and Germany. These two account for almost\n",
              " half (45%) of the global search. JavaScript has attained its all time highest share of 9.5% in Sep 2021. JavaScript is at 3rd \n",
              " position in US, India and United Kingdom and within top five in all five countries.</p>,\n",
              " <p>PHP is the biggest loser in recent years in PYPL. Its share was over 20% in 2008; now, this fig is only 5.27% in 2022. \n",
              " Java is too declining but not as fast as PHP. Java's contribution was over 31% in 2008, and still, it holds 18%. In \n",
              " 2004-2009, 50% of the search was of either Java or PHP.</p>,\n",
              " <p><b>TIOBE Index:</b> TIOBE ratings are calculated by counting hits of the most popular search engines. Twenty-five \n",
              " search engines are used to calculate the TIOBE index. The TIOBE Programming Community index is an indicator of the\n",
              "  popularity of programming languages. The index started in the year 2001 and updated once a month.</p>,\n",
              " <p><b>PYPL Index:</b> The PYPL PopularitY of Programming Language Index is created by analyzing how often language\n",
              "  tutorials are searched on Google. The index is updated once a month.</p>]"
            ]
          },
          "metadata": {},
          "execution_count": 5
        }
      ]
    },
    {
      "cell_type": "code",
      "metadata": {
        "id": "orje9kZ26lC9",
        "colab": {
          "base_uri": "https://localhost:8080/"
        },
        "outputId": "d8df3b84-5113-42b3-865a-4c1f0217cad2"
      },
      "source": [
        "todos_paragrafos[2]"
      ],
      "execution_count": null,
      "outputs": [
        {
          "output_type": "execute_result",
          "data": {
            "text/plain": [
              "<p><b>PYPL:</b> Acc to PYPL, which publishes separate ranking for five countries, Python is the top language in all five countries\n",
              "(US, India, Germany, United Kingdom, France). Python has taken a huge lead in these five countries over the 2nd number\n",
              "of Java, and its shares are even almost double of Java in fourFrance, United Kingdom and Germany. These two account for almost\n",
              "half (45%) of the global search. JavaScript has attained its all time highest share of 9.5% in Sep 2021. JavaScript is at 3rd \n",
              "position in US, India and United Kingdom and within top five in all five countries.</p>"
            ]
          },
          "metadata": {},
          "execution_count": 6
        }
      ]
    },
    {
      "cell_type": "markdown",
      "metadata": {
        "id": "FhGX6BN86lNJ"
      },
      "source": [
        "#Agora vamos pegar todos links"
      ]
    },
    {
      "cell_type": "code",
      "metadata": {
        "id": "GhfD7vG9lIpc",
        "colab": {
          "base_uri": "https://localhost:8080/"
        },
        "outputId": "bf446074-81a2-4db4-a6ac-9ddd8a82d1eb"
      },
      "source": [
        "todoslinks=soup.find_all('a')\n",
        "todoslinks"
      ],
      "execution_count": null,
      "outputs": [
        {
          "output_type": "execute_result",
          "data": {
            "text/plain": [
              "[<a href=\"/index.php\">\n",
              " <img alt=\"statisticstimes\" height=\"90\" src=\"/statistics.png\" width=\"200\"/>\n",
              " </a>,\n",
              " <a href=\"/index.php\">World</a>,\n",
              " <a href=\"/india.php\">India</a>,\n",
              " <a href=\"/economy/world-statistics.php\">World</a>,\n",
              " <a href=\"/economy/country-statistics.php\">Country</a>,\n",
              " <a href=\"/economy/india-statistics.php\">India</a>,\n",
              " <a href=\"/demographics/world-statistics.php\">World</a>,\n",
              " <a href=\"/demographics/country-statistics.php\">Country</a>,\n",
              " <a href=\"/demographics/india-statistics.php\">India</a>,\n",
              " <a href=\"/health/coronavirus-statistics.php\">Coronavirus</a>,\n",
              " <a href=\"/politics/india-statistics.php\">India</a>,\n",
              " <a href=\"/geography/world-statistics.php\">World</a>,\n",
              " <a href=\"/geography/india-statistics.php\">India</a>,\n",
              " <a href=\"/tech/world-statistics.php\">Tech</a>,\n",
              " <a href=\"/sports/world-statistics.php\">World</a>,\n",
              " <a href=\"/sports/india-statistics.php\">India</a>,\n",
              " <a href=\"/ranking/world-statistics.php\">Ranking</a>,\n",
              " <a href=\"/article/world-statistics.php\">World</a>,\n",
              " <a href=\"/article/india-statistics.php\">India</a>,\n",
              " <a href=\"https://www.tiobe.com/tiobe-index/\" target=\"_blank\">TIOBE Index</a>,\n",
              " <a href=\"http://pypl.github.io/PYPL.html\" target=\"_blank\">PYPL PopularitY of Programming Language Index</a>,\n",
              " <a class=\"ls\" href=\"/sports/olympics/olympics-medal-table.php\">\n",
              "        Olympics Medal Table 2020</a>,\n",
              " <a class=\"ls\" href=\"/economy/continents-by-gdp-per-capita.php\">\n",
              "        List of continents by gdp per capita</a>,\n",
              " <a class=\"ls\" href=\"/demographics/world-urban-population.php\">\n",
              "        World urban population</a>,\n",
              " <a href=\"/about.php\" style=\"text-decoration: none;\"> About US</a>,\n",
              " <a href=\"/termsofuse.php\" style=\"text-decoration: none;\"> Terms Of Use </a>,\n",
              " <a href=\"/privacy.php\" style=\"text-decoration: none;\"> Privacy Policy </a>,\n",
              " <a href=\"/contact.php\" style=\"text-decoration: none;\"> Contact Us </a>]"
            ]
          },
          "metadata": {},
          "execution_count": 7
        }
      ]
    },
    {
      "cell_type": "markdown",
      "metadata": {
        "id": "eGtHJCf9nZ9L"
      },
      "source": [
        "#Vamos inspecionar a tabela, pra pegar os dados da tabela \"PYPL Index (Worldwide)\""
      ]
    },
    {
      "cell_type": "code",
      "metadata": {
        "id": "-YlaRPBUnaXq",
        "colab": {
          "base_uri": "https://localhost:8080/"
        },
        "outputId": "ac530837-6988-43b5-ce3b-9cbe74816657"
      },
      "source": [
        "tabela=soup.find('table',{'id':'table_id1'}).find('tbody')\n",
        "tabela"
      ],
      "execution_count": null,
      "outputs": [
        {
          "output_type": "execute_result",
          "data": {
            "text/plain": [
              "<tbody>\n",
              "<tr><td class=\"data1\">1</td><td class=\"data1\"></td><td class=\"name\">Python</td><td class=\"data1\"> 27.61 %</td><td class=\"data1\">-2.8 %</td></tr>\n",
              "<tr><td class=\"data1\">2</td><td class=\"data1\"></td><td class=\"name\">Java</td><td class=\"data1\"> 17.64 %</td><td class=\"data1\">-0.7 %</td></tr>\n",
              "<tr><td class=\"data1\">3</td><td class=\"data1\"></td><td class=\"name\">JavaScript</td><td class=\"data1\"> 9.21 %</td><td class=\"data1\">+0.4 %</td></tr>\n",
              "<tr><td class=\"data1\">4</td><td class=\"data1\"></td><td class=\"name\">C#</td><td class=\"data1\"> 7.79 %</td><td class=\"data1\">+0.8 %</td></tr>\n",
              "<tr><td class=\"data1\">5</td><td class=\"data1\"></td><td class=\"name\">C/C++</td><td class=\"data1\"> 7.01 %</td><td class=\"data1\">+0.4 %</td></tr>\n",
              "<tr><td class=\"data1\">6</td><td class=\"data1\"></td><td class=\"name\">PHP</td><td class=\"data1\"> 5.27 %</td><td class=\"data1\">-1.0 %</td></tr>\n",
              "<tr><td class=\"data1\">7</td><td class=\"data1\"></td><td class=\"name\">R</td><td class=\"data1\"> 4.26 %</td><td class=\"data1\">+0.5 %</td></tr>\n",
              "<tr><td class=\"data1\">8</td><td class=\"data1\">↑↑↑</td><td class=\"name\">TypeScript</td><td class=\"data1\"> 2.43 %</td><td class=\"data1\">+0.7 %</td></tr>\n",
              "<tr><td class=\"data1\">9</td><td class=\"data1\">↓</td><td class=\"name\">Objective-C</td><td class=\"data1\"> 2.21 %</td><td class=\"data1\">+0.1 %</td></tr>\n",
              "<tr><td class=\"data1\">10</td><td class=\"data1\">↓</td><td class=\"name\">Swift</td><td class=\"data1\"> 2.17 %</td><td class=\"data1\">+0.4 %</td></tr>\n",
              "<tr><td class=\"data1\">11</td><td class=\"data1\">↑↑</td><td class=\"name\">Matlab</td><td class=\"data1\"> 1.71 %</td><td class=\"data1\">+0.2 %</td></tr>\n",
              "<tr><td class=\"data1\">12</td><td class=\"data1\">↓↓</td><td class=\"name\">Kotlin</td><td class=\"data1\"> 1.57 %</td><td class=\"data1\">-0.2 %</td></tr>\n",
              "<tr><td class=\"data1\">13</td><td class=\"data1\">↓</td><td class=\"name\">Go</td><td class=\"data1\"> 1.48 %</td><td class=\"data1\">+0.0 %</td></tr>\n",
              "<tr><td class=\"data1\">14</td><td class=\"data1\">↑↑</td><td class=\"name\">Rust</td><td class=\"data1\"> 1.29 %</td><td class=\"data1\">+0.4 %</td></tr>\n",
              "<tr><td class=\"data1\">15</td><td class=\"data1\"></td><td class=\"name\">Ruby</td><td class=\"data1\"> 1.1 %</td><td class=\"data1\">-0.0 %</td></tr>\n",
              "<tr><td class=\"data1\">16</td><td class=\"data1\">↓↓</td><td class=\"name\">VBA</td><td class=\"data1\"> 1.07 %</td><td class=\"data1\">-0.2 %</td></tr>\n",
              "<tr><td class=\"data1\">17</td><td class=\"data1\">↑↑</td><td class=\"name\">Ada</td><td class=\"data1\"> 0.95 %</td><td class=\"data1\">+0.4 %</td></tr>\n",
              "<tr><td class=\"data1\">18</td><td class=\"data1\">↑↑↑</td><td class=\"name\">Scala</td><td class=\"data1\"> 0.73 %</td><td class=\"data1\">+0.2 %</td></tr>\n",
              "<tr><td class=\"data1\">19</td><td class=\"data1\">↓↓</td><td class=\"name\">Visual Basic</td><td class=\"data1\"> 0.65 %</td><td class=\"data1\">-0.0 %</td></tr>\n",
              "<tr><td class=\"data1\">20</td><td class=\"data1\">↓↓</td><td class=\"name\">Dart</td><td class=\"data1\"> 0.64 %</td><td class=\"data1\">+0.0 %</td></tr>\n",
              "<tr><td class=\"data1\">21</td><td class=\"data1\">↑</td><td class=\"name\">Abap</td><td class=\"data1\"> 0.58 %</td><td class=\"data1\">+0.1 %</td></tr>\n",
              "<tr><td class=\"data1\">22</td><td class=\"data1\">↓↓</td><td class=\"name\">Lua</td><td class=\"data1\"> 0.51 %</td><td class=\"data1\">-0.0 %</td></tr>\n",
              "<tr><td class=\"data1\">23</td><td class=\"data1\">↑</td><td class=\"name\">Groovy</td><td class=\"data1\"> 0.48 %</td><td class=\"data1\">+0.1 %</td></tr>\n",
              "<tr><td class=\"data1\">24</td><td class=\"data1\">↓</td><td class=\"name\">Perl</td><td class=\"data1\"> 0.44 %</td><td class=\"data1\">+0.0 %</td></tr>\n",
              "<tr><td class=\"data1\">25</td><td class=\"data1\"></td><td class=\"name\">Julia</td><td class=\"data1\"> 0.41 %</td><td class=\"data1\">+0.0 %</td></tr>\n",
              "<tr><td class=\"data1\">26</td><td class=\"data1\"></td><td class=\"name\">Cobol</td><td class=\"data1\"> 0.34 %</td><td class=\"data1\">+0.1 %</td></tr>\n",
              "<tr><td class=\"data1\">27</td><td class=\"data1\"></td><td class=\"name\">Haskell</td><td class=\"data1\"> 0.29 %</td><td class=\"data1\">+0.1 %</td></tr>\n",
              "<tr><td class=\"data1\">28</td><td class=\"data1\"></td><td class=\"name\">Delphi/Pascal</td><td class=\"data1\"> 0.16 %</td><td class=\"data1\">+0.1 %</td></tr>\n",
              "</tbody>"
            ]
          },
          "metadata": {},
          "execution_count": 8
        }
      ]
    },
    {
      "cell_type": "code",
      "metadata": {
        "id": "A8fvOaE1oc7u",
        "colab": {
          "base_uri": "https://localhost:8080/"
        },
        "outputId": "8a33f91d-15b5-460d-d6d2-542e0018a5be"
      },
      "source": [
        "linhas=tabela.find_all('tr')\n",
        "for linha in linhas:\n",
        "    dado=linha.find_all('td')\n",
        "    print(dado[0].text)\n",
        "    print(dado[2].text)\n",
        "    print(dado[3].text)\n",
        "    print('-----')"
      ],
      "execution_count": null,
      "outputs": [
        {
          "output_type": "stream",
          "name": "stdout",
          "text": [
            "1\n",
            "Python\n",
            " 27.61 %\n",
            "-----\n",
            "2\n",
            "Java\n",
            " 17.64 %\n",
            "-----\n",
            "3\n",
            "JavaScript\n",
            " 9.21 %\n",
            "-----\n",
            "4\n",
            "C#\n",
            " 7.79 %\n",
            "-----\n",
            "5\n",
            "C/C++\n",
            " 7.01 %\n",
            "-----\n",
            "6\n",
            "PHP\n",
            " 5.27 %\n",
            "-----\n",
            "7\n",
            "R\n",
            " 4.26 %\n",
            "-----\n",
            "8\n",
            "TypeScript\n",
            " 2.43 %\n",
            "-----\n",
            "9\n",
            "Objective-C\n",
            " 2.21 %\n",
            "-----\n",
            "10\n",
            "Swift\n",
            " 2.17 %\n",
            "-----\n",
            "11\n",
            "Matlab\n",
            " 1.71 %\n",
            "-----\n",
            "12\n",
            "Kotlin\n",
            " 1.57 %\n",
            "-----\n",
            "13\n",
            "Go\n",
            " 1.48 %\n",
            "-----\n",
            "14\n",
            "Rust\n",
            " 1.29 %\n",
            "-----\n",
            "15\n",
            "Ruby\n",
            " 1.1 %\n",
            "-----\n",
            "16\n",
            "VBA\n",
            " 1.07 %\n",
            "-----\n",
            "17\n",
            "Ada\n",
            " 0.95 %\n",
            "-----\n",
            "18\n",
            "Scala\n",
            " 0.73 %\n",
            "-----\n",
            "19\n",
            "Visual Basic\n",
            " 0.65 %\n",
            "-----\n",
            "20\n",
            "Dart\n",
            " 0.64 %\n",
            "-----\n",
            "21\n",
            "Abap\n",
            " 0.58 %\n",
            "-----\n",
            "22\n",
            "Lua\n",
            " 0.51 %\n",
            "-----\n",
            "23\n",
            "Groovy\n",
            " 0.48 %\n",
            "-----\n",
            "24\n",
            "Perl\n",
            " 0.44 %\n",
            "-----\n",
            "25\n",
            "Julia\n",
            " 0.41 %\n",
            "-----\n",
            "26\n",
            "Cobol\n",
            " 0.34 %\n",
            "-----\n",
            "27\n",
            "Haskell\n",
            " 0.29 %\n",
            "-----\n",
            "28\n",
            "Delphi/Pascal\n",
            " 0.16 %\n",
            "-----\n"
          ]
        }
      ]
    },
    {
      "cell_type": "markdown",
      "metadata": {
        "id": "prfim75WodDS"
      },
      "source": [
        "#Montar uma lista de linguagens e de porcentagem com os dados, para depois compor um dataframe"
      ]
    },
    {
      "cell_type": "code",
      "metadata": {
        "id": "2QvYFpRdodb6"
      },
      "source": [
        "linguagem=[]\n",
        "pontos=[]\n",
        "for linha in linhas:\n",
        "    dado=linha.find_all('td')\n",
        "    linguagem.append(dado[2].text)\n",
        "    pontos.append(dado[3].text)"
      ],
      "execution_count": null,
      "outputs": []
    },
    {
      "cell_type": "code",
      "metadata": {
        "id": "Ukhj3LR_oiMh",
        "colab": {
          "base_uri": "https://localhost:8080/"
        },
        "outputId": "2a892a1b-b4e3-4f81-f178-2378a63ed0cc"
      },
      "source": [
        "print(linguagem)\n",
        "print (pontos)"
      ],
      "execution_count": null,
      "outputs": [
        {
          "output_type": "stream",
          "name": "stdout",
          "text": [
            "['Python', 'Java', 'JavaScript', 'C#', 'C/C++', 'PHP', 'R', 'TypeScript', 'Objective-C', 'Swift', 'Matlab', 'Kotlin', 'Go', 'Rust', 'Ruby', 'VBA', 'Ada', 'Scala', 'Visual Basic', 'Dart', 'Abap', 'Lua', 'Groovy', 'Perl', 'Julia', 'Cobol', 'Haskell', 'Delphi/Pascal']\n",
            "[' 27.61 %', ' 17.64 %', ' 9.21 %', ' 7.79 %', ' 7.01 %', ' 5.27 %', ' 4.26 %', ' 2.43 %', ' 2.21 %', ' 2.17 %', ' 1.71 %', ' 1.57 %', ' 1.48 %', ' 1.29 %', ' 1.1 %', ' 1.07 %', ' 0.95 %', ' 0.73 %', ' 0.65 %', ' 0.64 %', ' 0.58 %', ' 0.51 %', ' 0.48 %', ' 0.44 %', ' 0.41 %', ' 0.34 %', ' 0.29 %', ' 0.16 %']\n"
          ]
        }
      ]
    },
    {
      "cell_type": "code",
      "metadata": {
        "id": "GMOvcQvpoiWv"
      },
      "source": [
        "dados=pd.DataFrame(linguagem, columns=['Linguagem'])"
      ],
      "execution_count": null,
      "outputs": []
    },
    {
      "cell_type": "code",
      "metadata": {
        "id": "x-sEc_CsoieS"
      },
      "source": [
        "dados['Pontos']=pontos"
      ],
      "execution_count": null,
      "outputs": []
    },
    {
      "cell_type": "code",
      "metadata": {
        "id": "Vuiu4Opkoio_",
        "colab": {
          "base_uri": "https://localhost:8080/",
          "height": 928
        },
        "outputId": "599f4339-af71-40e2-f4d3-5c39b05c3e42"
      },
      "source": [
        "dados"
      ],
      "execution_count": null,
      "outputs": [
        {
          "output_type": "execute_result",
          "data": {
            "text/plain": [
              "        Linguagem    Pontos\n",
              "0          Python   27.61 %\n",
              "1            Java   17.64 %\n",
              "2      JavaScript    9.21 %\n",
              "3              C#    7.79 %\n",
              "4           C/C++    7.01 %\n",
              "5             PHP    5.27 %\n",
              "6               R    4.26 %\n",
              "7      TypeScript    2.43 %\n",
              "8     Objective-C    2.21 %\n",
              "9           Swift    2.17 %\n",
              "10         Matlab    1.71 %\n",
              "11         Kotlin    1.57 %\n",
              "12             Go    1.48 %\n",
              "13           Rust    1.29 %\n",
              "14           Ruby     1.1 %\n",
              "15            VBA    1.07 %\n",
              "16            Ada    0.95 %\n",
              "17          Scala    0.73 %\n",
              "18   Visual Basic    0.65 %\n",
              "19           Dart    0.64 %\n",
              "20           Abap    0.58 %\n",
              "21            Lua    0.51 %\n",
              "22         Groovy    0.48 %\n",
              "23           Perl    0.44 %\n",
              "24          Julia    0.41 %\n",
              "25          Cobol    0.34 %\n",
              "26        Haskell    0.29 %\n",
              "27  Delphi/Pascal    0.16 %"
            ],
            "text/html": [
              "\n",
              "\n",
              "  <div id=\"df-221ce879-a166-44b9-b34f-dad597f0c913\">\n",
              "    <div class=\"colab-df-container\">\n",
              "      <div>\n",
              "<style scoped>\n",
              "    .dataframe tbody tr th:only-of-type {\n",
              "        vertical-align: middle;\n",
              "    }\n",
              "\n",
              "    .dataframe tbody tr th {\n",
              "        vertical-align: top;\n",
              "    }\n",
              "\n",
              "    .dataframe thead th {\n",
              "        text-align: right;\n",
              "    }\n",
              "</style>\n",
              "<table border=\"1\" class=\"dataframe\">\n",
              "  <thead>\n",
              "    <tr style=\"text-align: right;\">\n",
              "      <th></th>\n",
              "      <th>Linguagem</th>\n",
              "      <th>Pontos</th>\n",
              "    </tr>\n",
              "  </thead>\n",
              "  <tbody>\n",
              "    <tr>\n",
              "      <th>0</th>\n",
              "      <td>Python</td>\n",
              "      <td>27.61 %</td>\n",
              "    </tr>\n",
              "    <tr>\n",
              "      <th>1</th>\n",
              "      <td>Java</td>\n",
              "      <td>17.64 %</td>\n",
              "    </tr>\n",
              "    <tr>\n",
              "      <th>2</th>\n",
              "      <td>JavaScript</td>\n",
              "      <td>9.21 %</td>\n",
              "    </tr>\n",
              "    <tr>\n",
              "      <th>3</th>\n",
              "      <td>C#</td>\n",
              "      <td>7.79 %</td>\n",
              "    </tr>\n",
              "    <tr>\n",
              "      <th>4</th>\n",
              "      <td>C/C++</td>\n",
              "      <td>7.01 %</td>\n",
              "    </tr>\n",
              "    <tr>\n",
              "      <th>5</th>\n",
              "      <td>PHP</td>\n",
              "      <td>5.27 %</td>\n",
              "    </tr>\n",
              "    <tr>\n",
              "      <th>6</th>\n",
              "      <td>R</td>\n",
              "      <td>4.26 %</td>\n",
              "    </tr>\n",
              "    <tr>\n",
              "      <th>7</th>\n",
              "      <td>TypeScript</td>\n",
              "      <td>2.43 %</td>\n",
              "    </tr>\n",
              "    <tr>\n",
              "      <th>8</th>\n",
              "      <td>Objective-C</td>\n",
              "      <td>2.21 %</td>\n",
              "    </tr>\n",
              "    <tr>\n",
              "      <th>9</th>\n",
              "      <td>Swift</td>\n",
              "      <td>2.17 %</td>\n",
              "    </tr>\n",
              "    <tr>\n",
              "      <th>10</th>\n",
              "      <td>Matlab</td>\n",
              "      <td>1.71 %</td>\n",
              "    </tr>\n",
              "    <tr>\n",
              "      <th>11</th>\n",
              "      <td>Kotlin</td>\n",
              "      <td>1.57 %</td>\n",
              "    </tr>\n",
              "    <tr>\n",
              "      <th>12</th>\n",
              "      <td>Go</td>\n",
              "      <td>1.48 %</td>\n",
              "    </tr>\n",
              "    <tr>\n",
              "      <th>13</th>\n",
              "      <td>Rust</td>\n",
              "      <td>1.29 %</td>\n",
              "    </tr>\n",
              "    <tr>\n",
              "      <th>14</th>\n",
              "      <td>Ruby</td>\n",
              "      <td>1.1 %</td>\n",
              "    </tr>\n",
              "    <tr>\n",
              "      <th>15</th>\n",
              "      <td>VBA</td>\n",
              "      <td>1.07 %</td>\n",
              "    </tr>\n",
              "    <tr>\n",
              "      <th>16</th>\n",
              "      <td>Ada</td>\n",
              "      <td>0.95 %</td>\n",
              "    </tr>\n",
              "    <tr>\n",
              "      <th>17</th>\n",
              "      <td>Scala</td>\n",
              "      <td>0.73 %</td>\n",
              "    </tr>\n",
              "    <tr>\n",
              "      <th>18</th>\n",
              "      <td>Visual Basic</td>\n",
              "      <td>0.65 %</td>\n",
              "    </tr>\n",
              "    <tr>\n",
              "      <th>19</th>\n",
              "      <td>Dart</td>\n",
              "      <td>0.64 %</td>\n",
              "    </tr>\n",
              "    <tr>\n",
              "      <th>20</th>\n",
              "      <td>Abap</td>\n",
              "      <td>0.58 %</td>\n",
              "    </tr>\n",
              "    <tr>\n",
              "      <th>21</th>\n",
              "      <td>Lua</td>\n",
              "      <td>0.51 %</td>\n",
              "    </tr>\n",
              "    <tr>\n",
              "      <th>22</th>\n",
              "      <td>Groovy</td>\n",
              "      <td>0.48 %</td>\n",
              "    </tr>\n",
              "    <tr>\n",
              "      <th>23</th>\n",
              "      <td>Perl</td>\n",
              "      <td>0.44 %</td>\n",
              "    </tr>\n",
              "    <tr>\n",
              "      <th>24</th>\n",
              "      <td>Julia</td>\n",
              "      <td>0.41 %</td>\n",
              "    </tr>\n",
              "    <tr>\n",
              "      <th>25</th>\n",
              "      <td>Cobol</td>\n",
              "      <td>0.34 %</td>\n",
              "    </tr>\n",
              "    <tr>\n",
              "      <th>26</th>\n",
              "      <td>Haskell</td>\n",
              "      <td>0.29 %</td>\n",
              "    </tr>\n",
              "    <tr>\n",
              "      <th>27</th>\n",
              "      <td>Delphi/Pascal</td>\n",
              "      <td>0.16 %</td>\n",
              "    </tr>\n",
              "  </tbody>\n",
              "</table>\n",
              "</div>\n",
              "      <button class=\"colab-df-convert\" onclick=\"convertToInteractive('df-221ce879-a166-44b9-b34f-dad597f0c913')\"\n",
              "              title=\"Convert this dataframe to an interactive table.\"\n",
              "              style=\"display:none;\">\n",
              "\n",
              "  <svg xmlns=\"http://www.w3.org/2000/svg\" height=\"24px\"viewBox=\"0 0 24 24\"\n",
              "       width=\"24px\">\n",
              "    <path d=\"M0 0h24v24H0V0z\" fill=\"none\"/>\n",
              "    <path d=\"M18.56 5.44l.94 2.06.94-2.06 2.06-.94-2.06-.94-.94-2.06-.94 2.06-2.06.94zm-11 1L8.5 8.5l.94-2.06 2.06-.94-2.06-.94L8.5 2.5l-.94 2.06-2.06.94zm10 10l.94 2.06.94-2.06 2.06-.94-2.06-.94-.94-2.06-.94 2.06-2.06.94z\"/><path d=\"M17.41 7.96l-1.37-1.37c-.4-.4-.92-.59-1.43-.59-.52 0-1.04.2-1.43.59L10.3 9.45l-7.72 7.72c-.78.78-.78 2.05 0 2.83L4 21.41c.39.39.9.59 1.41.59.51 0 1.02-.2 1.41-.59l7.78-7.78 2.81-2.81c.8-.78.8-2.07 0-2.86zM5.41 20L4 18.59l7.72-7.72 1.47 1.35L5.41 20z\"/>\n",
              "  </svg>\n",
              "      </button>\n",
              "\n",
              "\n",
              "\n",
              "    <div id=\"df-2195493f-c0ac-44ec-9a54-30ac31c63866\">\n",
              "      <button class=\"colab-df-quickchart\" onclick=\"quickchart('df-2195493f-c0ac-44ec-9a54-30ac31c63866')\"\n",
              "              title=\"Suggest charts.\"\n",
              "              style=\"display:none;\">\n",
              "\n",
              "<svg xmlns=\"http://www.w3.org/2000/svg\" height=\"24px\"viewBox=\"0 0 24 24\"\n",
              "     width=\"24px\">\n",
              "    <g>\n",
              "        <path d=\"M19 3H5c-1.1 0-2 .9-2 2v14c0 1.1.9 2 2 2h14c1.1 0 2-.9 2-2V5c0-1.1-.9-2-2-2zM9 17H7v-7h2v7zm4 0h-2V7h2v10zm4 0h-2v-4h2v4z\"/>\n",
              "    </g>\n",
              "</svg>\n",
              "      </button>\n",
              "    </div>\n",
              "\n",
              "<style>\n",
              "  .colab-df-quickchart {\n",
              "    background-color: #E8F0FE;\n",
              "    border: none;\n",
              "    border-radius: 50%;\n",
              "    cursor: pointer;\n",
              "    display: none;\n",
              "    fill: #1967D2;\n",
              "    height: 32px;\n",
              "    padding: 0 0 0 0;\n",
              "    width: 32px;\n",
              "  }\n",
              "\n",
              "  .colab-df-quickchart:hover {\n",
              "    background-color: #E2EBFA;\n",
              "    box-shadow: 0px 1px 2px rgba(60, 64, 67, 0.3), 0px 1px 3px 1px rgba(60, 64, 67, 0.15);\n",
              "    fill: #174EA6;\n",
              "  }\n",
              "\n",
              "  [theme=dark] .colab-df-quickchart {\n",
              "    background-color: #3B4455;\n",
              "    fill: #D2E3FC;\n",
              "  }\n",
              "\n",
              "  [theme=dark] .colab-df-quickchart:hover {\n",
              "    background-color: #434B5C;\n",
              "    box-shadow: 0px 1px 3px 1px rgba(0, 0, 0, 0.15);\n",
              "    filter: drop-shadow(0px 1px 2px rgba(0, 0, 0, 0.3));\n",
              "    fill: #FFFFFF;\n",
              "  }\n",
              "</style>\n",
              "\n",
              "    <script>\n",
              "      async function quickchart(key) {\n",
              "        const containerElement = document.querySelector('#' + key);\n",
              "        const charts = await google.colab.kernel.invokeFunction(\n",
              "            'suggestCharts', [key], {});\n",
              "      }\n",
              "    </script>\n",
              "\n",
              "      <script>\n",
              "\n",
              "function displayQuickchartButton(domScope) {\n",
              "  let quickchartButtonEl =\n",
              "    domScope.querySelector('#df-2195493f-c0ac-44ec-9a54-30ac31c63866 button.colab-df-quickchart');\n",
              "  quickchartButtonEl.style.display =\n",
              "    google.colab.kernel.accessAllowed ? 'block' : 'none';\n",
              "}\n",
              "\n",
              "        displayQuickchartButton(document);\n",
              "      </script>\n",
              "      <style>\n",
              "    .colab-df-container {\n",
              "      display:flex;\n",
              "      flex-wrap:wrap;\n",
              "      gap: 12px;\n",
              "    }\n",
              "\n",
              "    .colab-df-convert {\n",
              "      background-color: #E8F0FE;\n",
              "      border: none;\n",
              "      border-radius: 50%;\n",
              "      cursor: pointer;\n",
              "      display: none;\n",
              "      fill: #1967D2;\n",
              "      height: 32px;\n",
              "      padding: 0 0 0 0;\n",
              "      width: 32px;\n",
              "    }\n",
              "\n",
              "    .colab-df-convert:hover {\n",
              "      background-color: #E2EBFA;\n",
              "      box-shadow: 0px 1px 2px rgba(60, 64, 67, 0.3), 0px 1px 3px 1px rgba(60, 64, 67, 0.15);\n",
              "      fill: #174EA6;\n",
              "    }\n",
              "\n",
              "    [theme=dark] .colab-df-convert {\n",
              "      background-color: #3B4455;\n",
              "      fill: #D2E3FC;\n",
              "    }\n",
              "\n",
              "    [theme=dark] .colab-df-convert:hover {\n",
              "      background-color: #434B5C;\n",
              "      box-shadow: 0px 1px 3px 1px rgba(0, 0, 0, 0.15);\n",
              "      filter: drop-shadow(0px 1px 2px rgba(0, 0, 0, 0.3));\n",
              "      fill: #FFFFFF;\n",
              "    }\n",
              "  </style>\n",
              "\n",
              "      <script>\n",
              "        const buttonEl =\n",
              "          document.querySelector('#df-221ce879-a166-44b9-b34f-dad597f0c913 button.colab-df-convert');\n",
              "        buttonEl.style.display =\n",
              "          google.colab.kernel.accessAllowed ? 'block' : 'none';\n",
              "\n",
              "        async function convertToInteractive(key) {\n",
              "          const element = document.querySelector('#df-221ce879-a166-44b9-b34f-dad597f0c913');\n",
              "          const dataTable =\n",
              "            await google.colab.kernel.invokeFunction('convertToInteractive',\n",
              "                                                     [key], {});\n",
              "          if (!dataTable) return;\n",
              "\n",
              "          const docLinkHtml = 'Like what you see? Visit the ' +\n",
              "            '<a target=\"_blank\" href=https://colab.research.google.com/notebooks/data_table.ipynb>data table notebook</a>'\n",
              "            + ' to learn more about interactive tables.';\n",
              "          element.innerHTML = '';\n",
              "          dataTable['output_type'] = 'display_data';\n",
              "          await google.colab.output.renderOutput(dataTable, element);\n",
              "          const docLink = document.createElement('div');\n",
              "          docLink.innerHTML = docLinkHtml;\n",
              "          element.appendChild(docLink);\n",
              "        }\n",
              "      </script>\n",
              "    </div>\n",
              "  </div>\n"
            ]
          },
          "metadata": {},
          "execution_count": 15
        }
      ]
    },
    {
      "cell_type": "code",
      "metadata": {
        "id": "nDTv2s4tD3-j"
      },
      "source": [],
      "execution_count": null,
      "outputs": []
    }
  ]
}